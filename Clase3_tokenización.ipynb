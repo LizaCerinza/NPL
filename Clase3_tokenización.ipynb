{
  "nbformat": 4,
  "nbformat_minor": 0,
  "metadata": {
    "colab": {
      "name": "Clase3-tokenización.ipynb",
      "provenance": [],
      "authorship_tag": "ABX9TyPW5zb05YGQAKa+7oVFWZnJ",
      "include_colab_link": true
    },
    "kernelspec": {
      "name": "python3",
      "display_name": "Python 3"
    }
  },
  "cells": [
    {
      "cell_type": "markdown",
      "metadata": {
        "id": "view-in-github",
        "colab_type": "text"
      },
      "source": [
        "<a href=\"https://colab.research.google.com/github/LizaCerinza/NPL/blob/main/Clase3_tokenizaci%C3%B3n.ipynb\" target=\"_parent\"><img src=\"https://colab.research.google.com/assets/colab-badge.svg\" alt=\"Open In Colab\"/></a>"
      ]
    },
    {
      "cell_type": "code",
      "metadata": {
        "colab": {
          "base_uri": "https://localhost:8080/"
        },
        "id": "ZZzmD7w1NjCl",
        "outputId": "6563cf19-f20b-4329-ba41-19b44c719f9d"
      },
      "source": [
        "import nltk\n",
        "nltk.download('cess_esp')"
      ],
      "execution_count": 2,
      "outputs": [
        {
          "output_type": "stream",
          "text": [
            "[nltk_data] Downloading package cess_esp to /root/nltk_data...\n",
            "[nltk_data]   Unzipping corpora/cess_esp.zip.\n"
          ],
          "name": "stdout"
        },
        {
          "output_type": "execute_result",
          "data": {
            "text/plain": [
              "True"
            ]
          },
          "metadata": {
            "tags": []
          },
          "execution_count": 2
        }
      ]
    },
    {
      "cell_type": "code",
      "metadata": {
        "colab": {
          "base_uri": "https://localhost:8080/"
        },
        "id": "CgUuBsSUOua5",
        "outputId": "51e660b9-a14f-4775-cb37-393e85b44e53"
      },
      "source": [
        "import re\n",
        "corpus = nltk.corpus.cess_esp.sents()\n",
        "print(corpus)\n",
        "print(len(corpus))\n"
      ],
      "execution_count": 3,
      "outputs": [
        {
          "output_type": "stream",
          "text": [
            "[['El', 'grupo', 'estatal', 'Electricité_de_France', '-Fpa-', 'EDF', '-Fpt-', 'anunció', 'hoy', ',', 'jueves', ',', 'la', 'compra', 'del', '51_por_ciento', 'de', 'la', 'empresa', 'mexicana', 'Electricidad_Águila_de_Altamira', '-Fpa-', 'EAA', '-Fpt-', ',', 'creada', 'por', 'el', 'japonés', 'Mitsubishi_Corporation', 'para', 'poner_en_marcha', 'una', 'central', 'de', 'gas', 'de', '495', 'megavatios', '.'], ['Una', 'portavoz', 'de', 'EDF', 'explicó', 'a', 'EFE', 'que', 'el', 'proyecto', 'para', 'la', 'construcción', 'de', 'Altamira_2', ',', 'al', 'norte', 'de', 'Tampico', ',', 'prevé', 'la', 'utilización', 'de', 'gas', 'natural', 'como', 'combustible', 'principal', 'en', 'una', 'central', 'de', 'ciclo', 'combinado', 'que', 'debe', 'empezar', 'a', 'funcionar', 'en', 'mayo_del_2002', '.'], ...]\n",
            "6030\n"
          ],
          "name": "stdout"
        }
      ]
    },
    {
      "cell_type": "code",
      "metadata": {
        "id": "qWbxO74gjLZK",
        "colab": {
          "base_uri": "https://localhost:8080/"
        },
        "outputId": "a119fd8d-97b1-4c41-8d07-2b4a978263a2"
      },
      "source": [
        "print(r\"esta es \\n una prueba\") # r para que lea como texto plano\n"
      ],
      "execution_count": 4,
      "outputs": [
        {
          "output_type": "stream",
          "text": [
            "esta es \\n una prueba\n"
          ],
          "name": "stdout"
        }
      ]
    },
    {
      "cell_type": "code",
      "metadata": {
        "id": "TairqJBBzW4a"
      },
      "source": [
        "texto = \"Se considera que Isaac Asimov nació el 2 de enero de 1920 en Petróvichi, República Socialista Federativa Soviética de Rusia (desde 1929 y hasta ahora Óblast de Smolensk, Federación de Rusia, a 400 km al suroeste de Moscú y a 16 kilómetros de la frontera con Bielorrusia actual).a\""
      ],
      "execution_count": 7,
      "outputs": []
    },
    {
      "cell_type": "code",
      "metadata": {
        "colab": {
          "base_uri": "https://localhost:8080/"
        },
        "id": "nMhrV1tN0MlN",
        "outputId": "f28c23a7-45fe-4275-bc1a-43930290eb36"
      },
      "source": [
        "#caso 1 tokenizar por espacios en blanco\n",
        "print(re.split(r' ',texto))"
      ],
      "execution_count": 8,
      "outputs": [
        {
          "output_type": "stream",
          "text": [
            "['Se', 'considera', 'que', 'Isaac', 'Asimov', 'nació', 'el', '2', 'de', 'enero', 'de', '1920', 'en', 'Petróvichi,', 'República', 'Socialista', 'Federativa', 'Soviética', 'de', 'Rusia', '(desde', '1929', 'y', 'hasta', 'ahora', 'Óblast', 'de', 'Smolensk,', 'Federación', 'de', 'Rusia,', 'a', '400', 'km', 'al', 'suroeste', 'de', 'Moscú', 'y', 'a', '16', 'kilómetros', 'de', 'la', 'frontera', 'con', 'Bielorrusia', 'actual).a']\n"
          ],
          "name": "stdout"
        }
      ]
    },
    {
      "cell_type": "code",
      "metadata": {
        "colab": {
          "base_uri": "https://localhost:8080/"
        },
        "id": "ZyAmQDQI1C8a",
        "outputId": "e00dcfb2-335e-4e0a-a380-c562cc547ed7"
      },
      "source": [
        "#caso 2 tokenizar usando regex\n",
        "print(re.split(r'[ \\t\\n]+',texto))"
      ],
      "execution_count": 10,
      "outputs": [
        {
          "output_type": "stream",
          "text": [
            "['Se', 'considera', 'que', 'Isaac', 'Asimov', 'nació', 'el', '2', 'de', 'enero', 'de', '1920', 'en', 'Petróvichi,', 'República', 'Socialista', 'Federativa', 'Soviética', 'de', 'Rusia', '(desde', '1929', 'y', 'hasta', 'ahora', 'Óblast', 'de', 'Smolensk,', 'Federación', 'de', 'Rusia,', 'a', '400', 'km', 'al', 'suroeste', 'de', 'Moscú', 'y', 'a', '16', 'kilómetros', 'de', 'la', 'frontera', 'con', 'Bielorrusia', 'actual).a']\n"
          ],
          "name": "stdout"
        }
      ]
    },
    {
      "cell_type": "code",
      "metadata": {
        "colab": {
          "base_uri": "https://localhost:8080/"
        },
        "id": "G-C_EiKy1VYL",
        "outputId": "abf327e1-0847-4906-aab1-6871ab1fd387"
      },
      "source": [
        "#caso 3 tokenizar usando regex\n",
        "print(re.split(r'[ \\W\\t\\n]+',texto))"
      ],
      "execution_count": 11,
      "outputs": [
        {
          "output_type": "stream",
          "text": [
            "['Se', 'considera', 'que', 'Isaac', 'Asimov', 'nació', 'el', '2', 'de', 'enero', 'de', '1920', 'en', 'Petróvichi', 'República', 'Socialista', 'Federativa', 'Soviética', 'de', 'Rusia', 'desde', '1929', 'y', 'hasta', 'ahora', 'Óblast', 'de', 'Smolensk', 'Federación', 'de', 'Rusia', 'a', '400', 'km', 'al', 'suroeste', 'de', 'Moscú', 'y', 'a', '16', 'kilómetros', 'de', 'la', 'frontera', 'con', 'Bielorrusia', 'actual', 'a']\n"
          ],
          "name": "stdout"
        }
      ]
    },
    {
      "cell_type": "code",
      "metadata": {
        "colab": {
          "base_uri": "https://localhost:8080/"
        },
        "id": "k6LfZPCN1qxY",
        "outputId": "436cce64-0f02-40b1-8bed-f00a7c19d82f"
      },
      "source": [
        "#caso 3 tokenizar usasndo regex\n",
        "texto1 = 'En los E.U. esa postal vale $15.50 ...'\n",
        "print(re.split(r'[ \\W\\t\\n]', texto1))"
      ],
      "execution_count": 18,
      "outputs": [
        {
          "output_type": "stream",
          "text": [
            "['En', 'los', 'E', 'U', '', 'esa', 'postal', 'vale', '', '15', '50', '', '', '', '']\n"
          ],
          "name": "stdout"
        }
      ]
    },
    {
      "cell_type": "code",
      "metadata": {
        "colab": {
          "base_uri": "https://localhost:8080/"
        },
        "id": "iZ4hflz73DFB",
        "outputId": "c33595aa-ae97-4929-b5eb-66399dc7ebd5"
      },
      "source": [
        "pattern = r'''(?x)                    # Flag para iniciar el modo verbose\n",
        "              (?:[A-Z]\\.)+            # Hace match con abreviaciones como U.S.A.\n",
        "              | \\w+(?:-\\w+)*          # Hace match con palabras que pueden tener un guión interno\n",
        "              | \\$?\\d+(?:\\.\\d+)?%?    # Hace match con dinero o porcentajes como $15.5 o 100%\n",
        "              | \\.\\.\\.                # Hace match con puntos suspensivos\n",
        "              | [][.,;\"'?():-_`]      # Hace match con signos de puntuación\n",
        "'''\n",
        "nltk.regexp_tokenize(texto1,pattern)"
      ],
      "execution_count": 19,
      "outputs": [
        {
          "output_type": "execute_result",
          "data": {
            "text/plain": [
              "['En', 'los', 'E.U.', 'esa', 'postal', 'vale', '$15.50', '...']"
            ]
          },
          "metadata": {
            "tags": []
          },
          "execution_count": 19
        }
      ]
    }
  ]
}