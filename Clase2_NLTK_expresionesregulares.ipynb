{
  "nbformat": 4,
  "nbformat_minor": 0,
  "metadata": {
    "colab": {
      "name": "Clase2-NLTK-expresionesregulares",
      "provenance": [],
      "collapsed_sections": [],
      "authorship_tag": "ABX9TyOVBAlA1gdDYPn3aNy4Qoea",
      "include_colab_link": true
    },
    "kernelspec": {
      "name": "python3",
      "display_name": "Python 3"
    }
  },
  "cells": [
    {
      "cell_type": "markdown",
      "metadata": {
        "id": "view-in-github",
        "colab_type": "text"
      },
      "source": [
        "<a href=\"https://colab.research.google.com/github/LizaCerinza/NPL/blob/main/Clase2_NLTK_expresionesregulares.ipynb\" target=\"_parent\"><img src=\"https://colab.research.google.com/assets/colab-badge.svg\" alt=\"Open In Colab\"/></a>"
      ]
    },
    {
      "cell_type": "code",
      "metadata": {
        "colab": {
          "base_uri": "https://localhost:8080/"
        },
        "id": "ZZzmD7w1NjCl",
        "outputId": "1e18f9e1-e759-46b0-9fa3-0e99bb5e2704"
      },
      "source": [
        "import nltk\n",
        "nltk.download('cess_esp')"
      ],
      "execution_count": 6,
      "outputs": [
        {
          "output_type": "stream",
          "text": [
            "[nltk_data] Downloading package cess_esp to /root/nltk_data...\n",
            "[nltk_data]   Unzipping corpora/cess_esp.zip.\n"
          ],
          "name": "stdout"
        },
        {
          "output_type": "execute_result",
          "data": {
            "text/plain": [
              "True"
            ]
          },
          "metadata": {
            "tags": []
          },
          "execution_count": 6
        }
      ]
    },
    {
      "cell_type": "code",
      "metadata": {
        "colab": {
          "base_uri": "https://localhost:8080/"
        },
        "id": "CgUuBsSUOua5",
        "outputId": "ed535974-fbc3-4cc5-88c5-2f2a81657cf8"
      },
      "source": [
        "#Expresiones regulars\n",
        "import re\n",
        "corpus = nltk.corpus.cess_esp.sents()\n",
        "print(corpus)\n",
        "print(len(corpus))\n"
      ],
      "execution_count": 7,
      "outputs": [
        {
          "output_type": "stream",
          "text": [
            "[['El', 'grupo', 'estatal', 'Electricité_de_France', '-Fpa-', 'EDF', '-Fpt-', 'anunció', 'hoy', ',', 'jueves', ',', 'la', 'compra', 'del', '51_por_ciento', 'de', 'la', 'empresa', 'mexicana', 'Electricidad_Águila_de_Altamira', '-Fpa-', 'EAA', '-Fpt-', ',', 'creada', 'por', 'el', 'japonés', 'Mitsubishi_Corporation', 'para', 'poner_en_marcha', 'una', 'central', 'de', 'gas', 'de', '495', 'megavatios', '.'], ['Una', 'portavoz', 'de', 'EDF', 'explicó', 'a', 'EFE', 'que', 'el', 'proyecto', 'para', 'la', 'construcción', 'de', 'Altamira_2', ',', 'al', 'norte', 'de', 'Tampico', ',', 'prevé', 'la', 'utilización', 'de', 'gas', 'natural', 'como', 'combustible', 'principal', 'en', 'una', 'central', 'de', 'ciclo', 'combinado', 'que', 'debe', 'empezar', 'a', 'funcionar', 'en', 'mayo_del_2002', '.'], ...]\n",
            "6030\n"
          ],
          "name": "stdout"
        }
      ]
    },
    {
      "cell_type": "code",
      "metadata": {
        "colab": {
          "base_uri": "https://localhost:8080/"
        },
        "id": "lQsh7WqRPxt1",
        "outputId": "d975850f-3287-432e-f10a-a2570937dfcd"
      },
      "source": [
        "#Concatenar las listas \n",
        "flatten = [w for l in corpus for w in l]\n",
        "print(len(flatten))\n",
        "print(flatten[:20])"
      ],
      "execution_count": 8,
      "outputs": [
        {
          "output_type": "stream",
          "text": [
            "192685\n",
            "['El', 'grupo', 'estatal', 'Electricité_de_France', '-Fpa-', 'EDF', '-Fpt-', 'anunció', 'hoy', ',', 'jueves', ',', 'la', 'compra', 'del', '51_por_ciento', 'de', 'la', 'empresa', 'mexicana']\n"
          ],
          "name": "stdout"
        }
      ]
    },
    {
      "cell_type": "code",
      "metadata": {
        "colab": {
          "base_uri": "https://localhost:8080/"
        },
        "id": "2L3AIABmSgQ8",
        "outputId": "76b0ea71-9422-4392-8ad9-a67ac3bd56a0"
      },
      "source": [
        "#expresiones regulares \n",
        "arr = [w for w in flatten if re.search('es',w)]\n",
        "print(arr[:10])"
      ],
      "execution_count": 11,
      "outputs": [
        {
          "output_type": "stream",
          "text": [
            "['estatal', 'jueves', 'empresa', 'centrales', 'francesa', 'japonesa', 'millones', 'millones', 'dólares', 'millones']\n"
          ],
          "name": "stdout"
        }
      ]
    },
    {
      "cell_type": "code",
      "metadata": {
        "colab": {
          "base_uri": "https://localhost:8080/"
        },
        "id": "E7AOzNWYaNiS",
        "outputId": "d2fa71fe-38d5-4f95-e630-f1351c51624b"
      },
      "source": [
        "#expresiones regulares \n",
        "arr1 = [w for w in flatten if re.search('es$',w)] #expresiones que terminen con es\n",
        "print(arr1[:10])"
      ],
      "execution_count": 11,
      "outputs": [
        {
          "output_type": "stream",
          "text": [
            "['jueves', 'centrales', 'millones', 'millones', 'dólares', 'millones', 'millones', 'dólares', 'es', 'militantes']\n"
          ],
          "name": "stdout"
        }
      ]
    },
    {
      "cell_type": "code",
      "metadata": {
        "colab": {
          "base_uri": "https://localhost:8080/"
        },
        "id": "N5kpAvoBbEf4",
        "outputId": "c5e2dcb1-c714-43c0-9314-d66a2cef636d"
      },
      "source": [
        "#expresiones regulares \n",
        "arr2 = [w for w in flatten if re.search('^es',w)] #expresiones que inicien con es\n",
        "print(arr2[:10])"
      ],
      "execution_count": 12,
      "outputs": [
        {
          "output_type": "stream",
          "text": [
            "['estatal', 'es', 'esta', 'esta', 'eso', 'es', 'especial', 'especialmente', 'este', 'estas']\n"
          ],
          "name": "stdout"
        }
      ]
    },
    {
      "cell_type": "code",
      "metadata": {
        "colab": {
          "base_uri": "https://localhost:8080/"
        },
        "id": "DkMw83nXcsIr",
        "outputId": "94b99e92-5f46-470e-d361-f9572b25a5b5"
      },
      "source": [
        "#expresiones regulares \n",
        "#Rango [a-z][ghi]\n",
        "\n",
        "arr3= [w for w in flatten if re.search('^[ghi]', w)] #expresiones que inicien con g, h o i\n",
        "print(arr3[:10])"
      ],
      "execution_count": 12,
      "outputs": [
        {
          "output_type": "stream",
          "text": [
            "['grupo', 'hoy', 'gas', 'gas', 'intervendrá', 'invertir', 'gas', 'hoy', 'insulto', 'intervención']\n"
          ],
          "name": "stdout"
        }
      ]
    },
    {
      "cell_type": "code",
      "metadata": {
        "colab": {
          "base_uri": "https://localhost:8080/"
        },
        "id": "isOtXnEtg-zx",
        "outputId": "eeed93ef-9633-4fd2-d5e3-30763fdcb34c"
      },
      "source": [
        "#expresiones regulares \n",
        "#clausuras * repetir 0 a mas veces                + repetir 1 o más veces\n",
        "\n",
        "arr4= [w for w in flatten if re.search('^(no)+', w)] #expresiones que inicien con g, h o i\n",
        "print(arr4[:10])"
      ],
      "execution_count": 14,
      "outputs": [
        {
          "output_type": "stream",
          "text": [
            "['norte', 'no', 'no', 'noche', 'no', 'no', 'notificación', 'no', 'no', 'no']\n"
          ],
          "name": "stdout"
        }
      ]
    }
  ]
}